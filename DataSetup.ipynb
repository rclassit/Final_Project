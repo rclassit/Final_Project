{
 "cells": [
  {
   "cell_type": "code",
   "execution_count": 1,
   "outputs": [],
   "source": [
    "import pandas as pd\n",
    "import os\n"
   ],
   "metadata": {
    "collapsed": false,
    "pycharm": {
     "name": "#%%\n"
    }
   }
  },
  {
   "cell_type": "code",
   "execution_count": 2,
   "outputs": [
    {
     "data": {
      "text/plain": "                       beer_style                subgroup\n0                      Hefeweizen       German Wheat Beer\n1              English Strong Ale              Strong Ale\n2          Foreign / Export Stout                   Stout\n3                 German Pilsener  Standard American Beer\n4  American Double / Imperial IPA                     IPA",
      "text/html": "<div>\n<style scoped>\n    .dataframe tbody tr th:only-of-type {\n        vertical-align: middle;\n    }\n\n    .dataframe tbody tr th {\n        vertical-align: top;\n    }\n\n    .dataframe thead th {\n        text-align: right;\n    }\n</style>\n<table border=\"1\" class=\"dataframe\">\n  <thead>\n    <tr style=\"text-align: right;\">\n      <th></th>\n      <th>beer_style</th>\n      <th>subgroup</th>\n    </tr>\n  </thead>\n  <tbody>\n    <tr>\n      <th>0</th>\n      <td>Hefeweizen</td>\n      <td>German Wheat Beer</td>\n    </tr>\n    <tr>\n      <th>1</th>\n      <td>English Strong Ale</td>\n      <td>Strong Ale</td>\n    </tr>\n    <tr>\n      <th>2</th>\n      <td>Foreign / Export Stout</td>\n      <td>Stout</td>\n    </tr>\n    <tr>\n      <th>3</th>\n      <td>German Pilsener</td>\n      <td>Standard American Beer</td>\n    </tr>\n    <tr>\n      <th>4</th>\n      <td>American Double / Imperial IPA</td>\n      <td>IPA</td>\n    </tr>\n  </tbody>\n</table>\n</div>"
     },
     "execution_count": 2,
     "metadata": {},
     "output_type": "execute_result"
    }
   ],
   "source": [
    "beer_types = pd.read_csv(\"Beer_Styles.csv\")\n",
    "beer_types.head()"
   ],
   "metadata": {
    "collapsed": false,
    "pycharm": {
     "name": "#%%\n"
    }
   }
  },
  {
   "cell_type": "code",
   "execution_count": 3,
   "outputs": [
    {
     "data": {
      "text/plain": "   index  brewery_id             brewery_name  review_time  review_overall  \\\n0      0       10325          Vecchio Birraio   1234817823             1.5   \n1      1       10325          Vecchio Birraio   1235915097             3.0   \n2      2       10325          Vecchio Birraio   1235916604             3.0   \n3      3       10325          Vecchio Birraio   1234725145             3.0   \n4      4        1075  Caldera Brewing Company   1293735206             4.0   \n\n   review_aroma  review_appearance review_profilename  \\\n0           2.0                2.5            stcules   \n1           2.5                3.0            stcules   \n2           2.5                3.0            stcules   \n3           3.0                3.5            stcules   \n4           4.5                4.0     johnmichaelsen   \n\n                       beer_style  review_palate  review_taste  \\\n0                      Hefeweizen            1.5           1.5   \n1              English Strong Ale            3.0           3.0   \n2          Foreign / Export Stout            3.0           3.0   \n3                 German Pilsener            2.5           3.0   \n4  American Double / Imperial IPA            4.0           4.5   \n\n                beer_name  beer_abv  beer_beerid  \n0            Sausa Weizen       5.0        47986  \n1                Red Moon       6.2        48213  \n2  Black Horse Black Beer       6.5        48215  \n3              Sausa Pils       5.0        47969  \n4           Cauldron DIPA       7.7        64883  ",
      "text/html": "<div>\n<style scoped>\n    .dataframe tbody tr th:only-of-type {\n        vertical-align: middle;\n    }\n\n    .dataframe tbody tr th {\n        vertical-align: top;\n    }\n\n    .dataframe thead th {\n        text-align: right;\n    }\n</style>\n<table border=\"1\" class=\"dataframe\">\n  <thead>\n    <tr style=\"text-align: right;\">\n      <th></th>\n      <th>index</th>\n      <th>brewery_id</th>\n      <th>brewery_name</th>\n      <th>review_time</th>\n      <th>review_overall</th>\n      <th>review_aroma</th>\n      <th>review_appearance</th>\n      <th>review_profilename</th>\n      <th>beer_style</th>\n      <th>review_palate</th>\n      <th>review_taste</th>\n      <th>beer_name</th>\n      <th>beer_abv</th>\n      <th>beer_beerid</th>\n    </tr>\n  </thead>\n  <tbody>\n    <tr>\n      <th>0</th>\n      <td>0</td>\n      <td>10325</td>\n      <td>Vecchio Birraio</td>\n      <td>1234817823</td>\n      <td>1.5</td>\n      <td>2.0</td>\n      <td>2.5</td>\n      <td>stcules</td>\n      <td>Hefeweizen</td>\n      <td>1.5</td>\n      <td>1.5</td>\n      <td>Sausa Weizen</td>\n      <td>5.0</td>\n      <td>47986</td>\n    </tr>\n    <tr>\n      <th>1</th>\n      <td>1</td>\n      <td>10325</td>\n      <td>Vecchio Birraio</td>\n      <td>1235915097</td>\n      <td>3.0</td>\n      <td>2.5</td>\n      <td>3.0</td>\n      <td>stcules</td>\n      <td>English Strong Ale</td>\n      <td>3.0</td>\n      <td>3.0</td>\n      <td>Red Moon</td>\n      <td>6.2</td>\n      <td>48213</td>\n    </tr>\n    <tr>\n      <th>2</th>\n      <td>2</td>\n      <td>10325</td>\n      <td>Vecchio Birraio</td>\n      <td>1235916604</td>\n      <td>3.0</td>\n      <td>2.5</td>\n      <td>3.0</td>\n      <td>stcules</td>\n      <td>Foreign / Export Stout</td>\n      <td>3.0</td>\n      <td>3.0</td>\n      <td>Black Horse Black Beer</td>\n      <td>6.5</td>\n      <td>48215</td>\n    </tr>\n    <tr>\n      <th>3</th>\n      <td>3</td>\n      <td>10325</td>\n      <td>Vecchio Birraio</td>\n      <td>1234725145</td>\n      <td>3.0</td>\n      <td>3.0</td>\n      <td>3.5</td>\n      <td>stcules</td>\n      <td>German Pilsener</td>\n      <td>2.5</td>\n      <td>3.0</td>\n      <td>Sausa Pils</td>\n      <td>5.0</td>\n      <td>47969</td>\n    </tr>\n    <tr>\n      <th>4</th>\n      <td>4</td>\n      <td>1075</td>\n      <td>Caldera Brewing Company</td>\n      <td>1293735206</td>\n      <td>4.0</td>\n      <td>4.5</td>\n      <td>4.0</td>\n      <td>johnmichaelsen</td>\n      <td>American Double / Imperial IPA</td>\n      <td>4.0</td>\n      <td>4.5</td>\n      <td>Cauldron DIPA</td>\n      <td>7.7</td>\n      <td>64883</td>\n    </tr>\n  </tbody>\n</table>\n</div>"
     },
     "execution_count": 3,
     "metadata": {},
     "output_type": "execute_result"
    }
   ],
   "source": [
    "df = pd.read_csv(\"beer_reviews.csv\")\n",
    "parsed_data = df.drop_duplicates()\n",
    "parsed_data = parsed_data.dropna()\n",
    "parsed_data = parsed_data.reset_index()\n",
    "parsed_data.head()"
   ],
   "metadata": {
    "collapsed": false,
    "pycharm": {
     "name": "#%%\n"
    }
   }
  },
  {
   "cell_type": "code",
   "execution_count": 4,
   "outputs": [],
   "source": [
    "for name in beer_types.index:\n",
    "    parsed_data = parsed_data.replace(to_replace=beer_types.iloc[name]['beer_style'], value=beer_types.loc[name]['subgroup'])\n"
   ],
   "metadata": {
    "collapsed": false,
    "pycharm": {
     "name": "#%%\n"
    }
   }
  },
  {
   "cell_type": "code",
   "execution_count": 5,
   "outputs": [
    {
     "data": {
      "text/plain": "   index  brewery_id             brewery_name  review_time  review_overall  \\\n0      0       10325          Vecchio Birraio   1234817823             1.5   \n1      1       10325          Vecchio Birraio   1235915097             3.0   \n2      2       10325          Vecchio Birraio   1235916604             3.0   \n3      3       10325          Vecchio Birraio   1234725145             3.0   \n4      4        1075  Caldera Brewing Company   1293735206             4.0   \n\n   review_aroma  review_appearance review_profilename              beer_style  \\\n0           2.0                2.5            stcules       German Wheat Beer   \n1           2.5                3.0            stcules              Strong Ale   \n2           2.5                3.0            stcules                   Stout   \n3           3.0                3.5            stcules  Standard American Beer   \n4           4.5                4.0     johnmichaelsen                     IPA   \n\n   review_palate  review_taste               beer_name  beer_abv  beer_beerid  \n0            1.5           1.5            Sausa Weizen       5.0        47986  \n1            3.0           3.0                Red Moon       6.2        48213  \n2            3.0           3.0  Black Horse Black Beer       6.5        48215  \n3            2.5           3.0              Sausa Pils       5.0        47969  \n4            4.0           4.5           Cauldron DIPA       7.7        64883  ",
      "text/html": "<div>\n<style scoped>\n    .dataframe tbody tr th:only-of-type {\n        vertical-align: middle;\n    }\n\n    .dataframe tbody tr th {\n        vertical-align: top;\n    }\n\n    .dataframe thead th {\n        text-align: right;\n    }\n</style>\n<table border=\"1\" class=\"dataframe\">\n  <thead>\n    <tr style=\"text-align: right;\">\n      <th></th>\n      <th>index</th>\n      <th>brewery_id</th>\n      <th>brewery_name</th>\n      <th>review_time</th>\n      <th>review_overall</th>\n      <th>review_aroma</th>\n      <th>review_appearance</th>\n      <th>review_profilename</th>\n      <th>beer_style</th>\n      <th>review_palate</th>\n      <th>review_taste</th>\n      <th>beer_name</th>\n      <th>beer_abv</th>\n      <th>beer_beerid</th>\n    </tr>\n  </thead>\n  <tbody>\n    <tr>\n      <th>0</th>\n      <td>0</td>\n      <td>10325</td>\n      <td>Vecchio Birraio</td>\n      <td>1234817823</td>\n      <td>1.5</td>\n      <td>2.0</td>\n      <td>2.5</td>\n      <td>stcules</td>\n      <td>German Wheat Beer</td>\n      <td>1.5</td>\n      <td>1.5</td>\n      <td>Sausa Weizen</td>\n      <td>5.0</td>\n      <td>47986</td>\n    </tr>\n    <tr>\n      <th>1</th>\n      <td>1</td>\n      <td>10325</td>\n      <td>Vecchio Birraio</td>\n      <td>1235915097</td>\n      <td>3.0</td>\n      <td>2.5</td>\n      <td>3.0</td>\n      <td>stcules</td>\n      <td>Strong Ale</td>\n      <td>3.0</td>\n      <td>3.0</td>\n      <td>Red Moon</td>\n      <td>6.2</td>\n      <td>48213</td>\n    </tr>\n    <tr>\n      <th>2</th>\n      <td>2</td>\n      <td>10325</td>\n      <td>Vecchio Birraio</td>\n      <td>1235916604</td>\n      <td>3.0</td>\n      <td>2.5</td>\n      <td>3.0</td>\n      <td>stcules</td>\n      <td>Stout</td>\n      <td>3.0</td>\n      <td>3.0</td>\n      <td>Black Horse Black Beer</td>\n      <td>6.5</td>\n      <td>48215</td>\n    </tr>\n    <tr>\n      <th>3</th>\n      <td>3</td>\n      <td>10325</td>\n      <td>Vecchio Birraio</td>\n      <td>1234725145</td>\n      <td>3.0</td>\n      <td>3.0</td>\n      <td>3.5</td>\n      <td>stcules</td>\n      <td>Standard American Beer</td>\n      <td>2.5</td>\n      <td>3.0</td>\n      <td>Sausa Pils</td>\n      <td>5.0</td>\n      <td>47969</td>\n    </tr>\n    <tr>\n      <th>4</th>\n      <td>4</td>\n      <td>1075</td>\n      <td>Caldera Brewing Company</td>\n      <td>1293735206</td>\n      <td>4.0</td>\n      <td>4.5</td>\n      <td>4.0</td>\n      <td>johnmichaelsen</td>\n      <td>IPA</td>\n      <td>4.0</td>\n      <td>4.5</td>\n      <td>Cauldron DIPA</td>\n      <td>7.7</td>\n      <td>64883</td>\n    </tr>\n  </tbody>\n</table>\n</div>"
     },
     "execution_count": 5,
     "metadata": {},
     "output_type": "execute_result"
    }
   ],
   "source": [
    "parsed_data.head()"
   ],
   "metadata": {
    "collapsed": false,
    "pycharm": {
     "name": "#%%\n"
    }
   }
  },
  {
   "cell_type": "code",
   "execution_count": null,
   "outputs": [],
   "source": [
    "data = parsed_data[[\"review_overall\", \"review_aroma\", \"review_appearance\", \"review_palate\",\"review_taste\", \"beer_abv\"]]\n",
    "feature_names = data.columns\n",
    "data.head()"
   ],
   "metadata": {
    "collapsed": false,
    "pycharm": {
     "name": "#%%\n"
    }
   }
  },
  {
   "cell_type": "code",
   "execution_count": null,
   "outputs": [],
   "source": [
    "target = parsed_data[[\"beer_style\"]]\n",
    "target_names = df[\"beer_style\"].unique()\n",
    "target_names"
   ],
   "metadata": {
    "collapsed": false,
    "pycharm": {
     "name": "#%%\n"
    }
   }
  }
 ],
 "metadata": {
  "kernelspec": {
   "name": "conda-env-PythonAdv-py",
   "language": "python",
   "display_name": "Python [conda env:PythonAdv] *"
  },
  "language_info": {
   "codemirror_mode": {
    "name": "ipython",
    "version": 2
   },
   "file_extension": ".py",
   "mimetype": "text/x-python",
   "name": "python",
   "nbconvert_exporter": "python",
   "pygments_lexer": "ipython2",
   "version": "2.7.6"
  }
 },
 "nbformat": 4,
 "nbformat_minor": 0
}