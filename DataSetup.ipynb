{
 "cells": [
  {
   "cell_type": "code",
   "execution_count": 1,
   "outputs": [],
   "source": [
    "import pandas as pd\n",
    "import os\n",
    "import psycopg2\n",
    "from sqlalchemy import create_engine\n"
   ],
   "metadata": {
    "collapsed": false,
    "pycharm": {
     "name": "#%%\n"
    }
   }
  },
  {
   "cell_type": "code",
   "execution_count": 16,
   "outputs": [
    {
     "data": {
      "text/plain": "                         beer_style subgroup_5\n0               American Barleywine   Dark Ale\n1                American Black Ale   Dark Ale\n2                American Brown Ale   Dark Ale\n3           American Dark Wheat Ale   Dark Ale\n4  American Double / Imperial Stout   Dark Ale",
      "text/html": "<div>\n<style scoped>\n    .dataframe tbody tr th:only-of-type {\n        vertical-align: middle;\n    }\n\n    .dataframe tbody tr th {\n        vertical-align: top;\n    }\n\n    .dataframe thead th {\n        text-align: right;\n    }\n</style>\n<table border=\"1\" class=\"dataframe\">\n  <thead>\n    <tr style=\"text-align: right;\">\n      <th></th>\n      <th>beer_style</th>\n      <th>subgroup_5</th>\n    </tr>\n  </thead>\n  <tbody>\n    <tr>\n      <th>0</th>\n      <td>American Barleywine</td>\n      <td>Dark Ale</td>\n    </tr>\n    <tr>\n      <th>1</th>\n      <td>American Black Ale</td>\n      <td>Dark Ale</td>\n    </tr>\n    <tr>\n      <th>2</th>\n      <td>American Brown Ale</td>\n      <td>Dark Ale</td>\n    </tr>\n    <tr>\n      <th>3</th>\n      <td>American Dark Wheat Ale</td>\n      <td>Dark Ale</td>\n    </tr>\n    <tr>\n      <th>4</th>\n      <td>American Double / Imperial Stout</td>\n      <td>Dark Ale</td>\n    </tr>\n  </tbody>\n</table>\n</div>"
     },
     "execution_count": 16,
     "metadata": {},
     "output_type": "execute_result"
    }
   ],
   "source": [
    "beer_types = pd.read_csv(\"Beer_Styles_All_Groups_BB.csv\")\n",
    "beer_types.head()"
   ],
   "metadata": {
    "collapsed": false,
    "pycharm": {
     "name": "#%%\n"
    }
   }
  },
  {
   "cell_type": "code",
   "execution_count": 17,
   "outputs": [
    {
     "data": {
      "text/plain": "   index  brewery_id             brewery_name  review_time  review_overall  \\\n0      0       10325          Vecchio Birraio   1234817823             1.5   \n1      1       10325          Vecchio Birraio   1235915097             3.0   \n2      2       10325          Vecchio Birraio   1235916604             3.0   \n3      3       10325          Vecchio Birraio   1234725145             3.0   \n4      4        1075  Caldera Brewing Company   1293735206             4.0   \n\n   review_aroma  review_appearance review_profilename  \\\n0           2.0                2.5            stcules   \n1           2.5                3.0            stcules   \n2           2.5                3.0            stcules   \n3           3.0                3.5            stcules   \n4           4.5                4.0     johnmichaelsen   \n\n                       beer_style  review_palate  review_taste  \\\n0                      Hefeweizen            1.5           1.5   \n1              English Strong Ale            3.0           3.0   \n2          Foreign / Export Stout            3.0           3.0   \n3                 German Pilsener            2.5           3.0   \n4  American Double / Imperial IPA            4.0           4.5   \n\n                beer_name  beer_abv  beer_beerid  \n0            Sausa Weizen       5.0        47986  \n1                Red Moon       6.2        48213  \n2  Black Horse Black Beer       6.5        48215  \n3              Sausa Pils       5.0        47969  \n4           Cauldron DIPA       7.7        64883  ",
      "text/html": "<div>\n<style scoped>\n    .dataframe tbody tr th:only-of-type {\n        vertical-align: middle;\n    }\n\n    .dataframe tbody tr th {\n        vertical-align: top;\n    }\n\n    .dataframe thead th {\n        text-align: right;\n    }\n</style>\n<table border=\"1\" class=\"dataframe\">\n  <thead>\n    <tr style=\"text-align: right;\">\n      <th></th>\n      <th>index</th>\n      <th>brewery_id</th>\n      <th>brewery_name</th>\n      <th>review_time</th>\n      <th>review_overall</th>\n      <th>review_aroma</th>\n      <th>review_appearance</th>\n      <th>review_profilename</th>\n      <th>beer_style</th>\n      <th>review_palate</th>\n      <th>review_taste</th>\n      <th>beer_name</th>\n      <th>beer_abv</th>\n      <th>beer_beerid</th>\n    </tr>\n  </thead>\n  <tbody>\n    <tr>\n      <th>0</th>\n      <td>0</td>\n      <td>10325</td>\n      <td>Vecchio Birraio</td>\n      <td>1234817823</td>\n      <td>1.5</td>\n      <td>2.0</td>\n      <td>2.5</td>\n      <td>stcules</td>\n      <td>Hefeweizen</td>\n      <td>1.5</td>\n      <td>1.5</td>\n      <td>Sausa Weizen</td>\n      <td>5.0</td>\n      <td>47986</td>\n    </tr>\n    <tr>\n      <th>1</th>\n      <td>1</td>\n      <td>10325</td>\n      <td>Vecchio Birraio</td>\n      <td>1235915097</td>\n      <td>3.0</td>\n      <td>2.5</td>\n      <td>3.0</td>\n      <td>stcules</td>\n      <td>English Strong Ale</td>\n      <td>3.0</td>\n      <td>3.0</td>\n      <td>Red Moon</td>\n      <td>6.2</td>\n      <td>48213</td>\n    </tr>\n    <tr>\n      <th>2</th>\n      <td>2</td>\n      <td>10325</td>\n      <td>Vecchio Birraio</td>\n      <td>1235916604</td>\n      <td>3.0</td>\n      <td>2.5</td>\n      <td>3.0</td>\n      <td>stcules</td>\n      <td>Foreign / Export Stout</td>\n      <td>3.0</td>\n      <td>3.0</td>\n      <td>Black Horse Black Beer</td>\n      <td>6.5</td>\n      <td>48215</td>\n    </tr>\n    <tr>\n      <th>3</th>\n      <td>3</td>\n      <td>10325</td>\n      <td>Vecchio Birraio</td>\n      <td>1234725145</td>\n      <td>3.0</td>\n      <td>3.0</td>\n      <td>3.5</td>\n      <td>stcules</td>\n      <td>German Pilsener</td>\n      <td>2.5</td>\n      <td>3.0</td>\n      <td>Sausa Pils</td>\n      <td>5.0</td>\n      <td>47969</td>\n    </tr>\n    <tr>\n      <th>4</th>\n      <td>4</td>\n      <td>1075</td>\n      <td>Caldera Brewing Company</td>\n      <td>1293735206</td>\n      <td>4.0</td>\n      <td>4.5</td>\n      <td>4.0</td>\n      <td>johnmichaelsen</td>\n      <td>American Double / Imperial IPA</td>\n      <td>4.0</td>\n      <td>4.5</td>\n      <td>Cauldron DIPA</td>\n      <td>7.7</td>\n      <td>64883</td>\n    </tr>\n  </tbody>\n</table>\n</div>"
     },
     "execution_count": 17,
     "metadata": {},
     "output_type": "execute_result"
    }
   ],
   "source": [
    "df = pd.read_csv(\"beer_reviews.csv\")\n",
    "parsed_data = df.drop_duplicates()\n",
    "parsed_data = parsed_data.dropna()\n",
    "parsed_data = parsed_data.reset_index()\n",
    "parsed_data.head()"
   ],
   "metadata": {
    "collapsed": false,
    "pycharm": {
     "name": "#%%\n"
    }
   }
  },
  {
   "cell_type": "code",
   "execution_count": 27,
   "outputs": [
    {
     "data": {
      "text/plain": "array(['Pale Ale', 'Dark Ale', 'Pale Lager', 'Dark Lager'], dtype=object)"
     },
     "execution_count": 27,
     "metadata": {},
     "output_type": "execute_result"
    }
   ],
   "source": [
    "parsed_data = parsed_data.loc[parsed_data[\"beer_style\"] != \"Specialty\"]\n",
    "parsed_data = parsed_data.loc[parsed_data[\"beer_style\"] != \"Sour Ale\"]\n",
    "parsed_data.beer_style.unique()"
   ],
   "metadata": {
    "collapsed": false,
    "pycharm": {
     "name": "#%%\n"
    }
   }
  },
  {
   "cell_type": "code",
   "execution_count": 19,
   "outputs": [],
   "source": [
    "for name in beer_types.index:\n",
    "    parsed_data = parsed_data.replace(to_replace=beer_types.iloc[name]['beer_style'], value=beer_types.loc[name]['subgroup_5'])"
   ],
   "metadata": {
    "collapsed": false,
    "pycharm": {
     "name": "#%%\n"
    }
   }
  },
  {
   "cell_type": "code",
   "execution_count": 6,
   "outputs": [
    {
     "data": {
      "text/plain": "   index  brewery_id             brewery_name  review_time  review_overall  \\\n0      0       10325          Vecchio Birraio   1234817823             1.5   \n1      1       10325          Vecchio Birraio   1235915097             3.0   \n2      2       10325          Vecchio Birraio   1235916604             3.0   \n3      3       10325          Vecchio Birraio   1234725145             3.0   \n4      4        1075  Caldera Brewing Company   1293735206             4.0   \n\n   review_aroma  review_appearance review_profilename  beer_style  \\\n0           2.0                2.5            stcules    Pale Ale   \n1           2.5                3.0            stcules    Pale Ale   \n2           2.5                3.0            stcules    Dark Ale   \n3           3.0                3.5            stcules  Pale Lager   \n4           4.5                4.0     johnmichaelsen    Pale Ale   \n\n   review_palate  review_taste               beer_name  beer_abv  beer_beerid  \n0            1.5           1.5            Sausa Weizen       5.0        47986  \n1            3.0           3.0                Red Moon       6.2        48213  \n2            3.0           3.0  Black Horse Black Beer       6.5        48215  \n3            2.5           3.0              Sausa Pils       5.0        47969  \n4            4.0           4.5           Cauldron DIPA       7.7        64883  ",
      "text/html": "<div>\n<style scoped>\n    .dataframe tbody tr th:only-of-type {\n        vertical-align: middle;\n    }\n\n    .dataframe tbody tr th {\n        vertical-align: top;\n    }\n\n    .dataframe thead th {\n        text-align: right;\n    }\n</style>\n<table border=\"1\" class=\"dataframe\">\n  <thead>\n    <tr style=\"text-align: right;\">\n      <th></th>\n      <th>index</th>\n      <th>brewery_id</th>\n      <th>brewery_name</th>\n      <th>review_time</th>\n      <th>review_overall</th>\n      <th>review_aroma</th>\n      <th>review_appearance</th>\n      <th>review_profilename</th>\n      <th>beer_style</th>\n      <th>review_palate</th>\n      <th>review_taste</th>\n      <th>beer_name</th>\n      <th>beer_abv</th>\n      <th>beer_beerid</th>\n    </tr>\n  </thead>\n  <tbody>\n    <tr>\n      <th>0</th>\n      <td>0</td>\n      <td>10325</td>\n      <td>Vecchio Birraio</td>\n      <td>1234817823</td>\n      <td>1.5</td>\n      <td>2.0</td>\n      <td>2.5</td>\n      <td>stcules</td>\n      <td>Pale Ale</td>\n      <td>1.5</td>\n      <td>1.5</td>\n      <td>Sausa Weizen</td>\n      <td>5.0</td>\n      <td>47986</td>\n    </tr>\n    <tr>\n      <th>1</th>\n      <td>1</td>\n      <td>10325</td>\n      <td>Vecchio Birraio</td>\n      <td>1235915097</td>\n      <td>3.0</td>\n      <td>2.5</td>\n      <td>3.0</td>\n      <td>stcules</td>\n      <td>Pale Ale</td>\n      <td>3.0</td>\n      <td>3.0</td>\n      <td>Red Moon</td>\n      <td>6.2</td>\n      <td>48213</td>\n    </tr>\n    <tr>\n      <th>2</th>\n      <td>2</td>\n      <td>10325</td>\n      <td>Vecchio Birraio</td>\n      <td>1235916604</td>\n      <td>3.0</td>\n      <td>2.5</td>\n      <td>3.0</td>\n      <td>stcules</td>\n      <td>Dark Ale</td>\n      <td>3.0</td>\n      <td>3.0</td>\n      <td>Black Horse Black Beer</td>\n      <td>6.5</td>\n      <td>48215</td>\n    </tr>\n    <tr>\n      <th>3</th>\n      <td>3</td>\n      <td>10325</td>\n      <td>Vecchio Birraio</td>\n      <td>1234725145</td>\n      <td>3.0</td>\n      <td>3.0</td>\n      <td>3.5</td>\n      <td>stcules</td>\n      <td>Pale Lager</td>\n      <td>2.5</td>\n      <td>3.0</td>\n      <td>Sausa Pils</td>\n      <td>5.0</td>\n      <td>47969</td>\n    </tr>\n    <tr>\n      <th>4</th>\n      <td>4</td>\n      <td>1075</td>\n      <td>Caldera Brewing Company</td>\n      <td>1293735206</td>\n      <td>4.0</td>\n      <td>4.5</td>\n      <td>4.0</td>\n      <td>johnmichaelsen</td>\n      <td>Pale Ale</td>\n      <td>4.0</td>\n      <td>4.5</td>\n      <td>Cauldron DIPA</td>\n      <td>7.7</td>\n      <td>64883</td>\n    </tr>\n  </tbody>\n</table>\n</div>"
     },
     "execution_count": 6,
     "metadata": {},
     "output_type": "execute_result"
    }
   ],
   "source": [
    "parsed_data.head()\n"
   ],
   "metadata": {
    "collapsed": false,
    "pycharm": {
     "name": "#%%\n"
    }
   }
  },
  {
   "cell_type": "code",
   "execution_count": 7,
   "outputs": [
    {
     "name": "stdout",
     "output_type": "stream",
     "text": [
      "Index(['index', 'brewery_id', 'brewery_name', 'review_time', 'review_overall',\n",
      "       'review_aroma', 'review_appearance', 'review_profilename', 'beer_style',\n",
      "       'review_palate', 'review_taste', 'beer_name', 'beer_abv',\n",
      "       'beer_beerid'],\n",
      "      dtype='object')\n"
     ]
    }
   ],
   "source": [
    "print(parsed_data.columns)"
   ],
   "metadata": {
    "collapsed": false,
    "pycharm": {
     "name": "#%%\n"
    }
   }
  },
  {
   "cell_type": "code",
   "execution_count": 20,
   "outputs": [
    {
     "data": {
      "text/plain": "   index review_profilename  review_overall  review_aroma  review_appearance  \\\n0      0            stcules             1.5           2.0                2.5   \n1      1            stcules             3.0           2.5                3.0   \n2      2            stcules             3.0           2.5                3.0   \n3      3            stcules             3.0           3.0                3.5   \n4      4     johnmichaelsen             4.0           4.5                4.0   \n\n   review_palate  review_taste  beer_beerid  \n0            1.5           1.5        47986  \n1            3.0           3.0        48213  \n2            3.0           3.0        48215  \n3            2.5           3.0        47969  \n4            4.0           4.5        64883  ",
      "text/html": "<div>\n<style scoped>\n    .dataframe tbody tr th:only-of-type {\n        vertical-align: middle;\n    }\n\n    .dataframe tbody tr th {\n        vertical-align: top;\n    }\n\n    .dataframe thead th {\n        text-align: right;\n    }\n</style>\n<table border=\"1\" class=\"dataframe\">\n  <thead>\n    <tr style=\"text-align: right;\">\n      <th></th>\n      <th>index</th>\n      <th>review_profilename</th>\n      <th>review_overall</th>\n      <th>review_aroma</th>\n      <th>review_appearance</th>\n      <th>review_palate</th>\n      <th>review_taste</th>\n      <th>beer_beerid</th>\n    </tr>\n  </thead>\n  <tbody>\n    <tr>\n      <th>0</th>\n      <td>0</td>\n      <td>stcules</td>\n      <td>1.5</td>\n      <td>2.0</td>\n      <td>2.5</td>\n      <td>1.5</td>\n      <td>1.5</td>\n      <td>47986</td>\n    </tr>\n    <tr>\n      <th>1</th>\n      <td>1</td>\n      <td>stcules</td>\n      <td>3.0</td>\n      <td>2.5</td>\n      <td>3.0</td>\n      <td>3.0</td>\n      <td>3.0</td>\n      <td>48213</td>\n    </tr>\n    <tr>\n      <th>2</th>\n      <td>2</td>\n      <td>stcules</td>\n      <td>3.0</td>\n      <td>2.5</td>\n      <td>3.0</td>\n      <td>3.0</td>\n      <td>3.0</td>\n      <td>48215</td>\n    </tr>\n    <tr>\n      <th>3</th>\n      <td>3</td>\n      <td>stcules</td>\n      <td>3.0</td>\n      <td>3.0</td>\n      <td>3.5</td>\n      <td>2.5</td>\n      <td>3.0</td>\n      <td>47969</td>\n    </tr>\n    <tr>\n      <th>4</th>\n      <td>4</td>\n      <td>johnmichaelsen</td>\n      <td>4.0</td>\n      <td>4.5</td>\n      <td>4.0</td>\n      <td>4.0</td>\n      <td>4.5</td>\n      <td>64883</td>\n    </tr>\n  </tbody>\n</table>\n</div>"
     },
     "execution_count": 20,
     "metadata": {},
     "output_type": "execute_result"
    }
   ],
   "source": [
    "review = parsed_data[[\"index\", \"review_profilename\", \"review_overall\",\"review_aroma\", \"review_appearance\", \"review_palate\", \"review_taste\", \"beer_beerid\"]]\n",
    "review.head()"
   ],
   "metadata": {
    "collapsed": false,
    "pycharm": {
     "name": "#%%\n"
    }
   }
  },
  {
   "cell_type": "code",
   "execution_count": 21,
   "outputs": [
    {
     "data": {
      "text/plain": "     brewery_id                brewery_name\n0         10325             Vecchio Birraio\n4          1075     Caldera Brewing Company\n10          163      Amstel Brouwerij B. V.\n392        1454       Broad Ripple Brew Pub\n402         850  Moon River Brewing Company",
      "text/html": "<div>\n<style scoped>\n    .dataframe tbody tr th:only-of-type {\n        vertical-align: middle;\n    }\n\n    .dataframe tbody tr th {\n        vertical-align: top;\n    }\n\n    .dataframe thead th {\n        text-align: right;\n    }\n</style>\n<table border=\"1\" class=\"dataframe\">\n  <thead>\n    <tr style=\"text-align: right;\">\n      <th></th>\n      <th>brewery_id</th>\n      <th>brewery_name</th>\n    </tr>\n  </thead>\n  <tbody>\n    <tr>\n      <th>0</th>\n      <td>10325</td>\n      <td>Vecchio Birraio</td>\n    </tr>\n    <tr>\n      <th>4</th>\n      <td>1075</td>\n      <td>Caldera Brewing Company</td>\n    </tr>\n    <tr>\n      <th>10</th>\n      <td>163</td>\n      <td>Amstel Brouwerij B. V.</td>\n    </tr>\n    <tr>\n      <th>392</th>\n      <td>1454</td>\n      <td>Broad Ripple Brew Pub</td>\n    </tr>\n    <tr>\n      <th>402</th>\n      <td>850</td>\n      <td>Moon River Brewing Company</td>\n    </tr>\n  </tbody>\n</table>\n</div>"
     },
     "execution_count": 21,
     "metadata": {},
     "output_type": "execute_result"
    }
   ],
   "source": [
    "brewery = parsed_data[[\"brewery_id\", \"brewery_name\"]]\n",
    "brewery = brewery.drop_duplicates()\n",
    "brewery.head()"
   ],
   "metadata": {
    "collapsed": false,
    "pycharm": {
     "name": "#%%\n"
    }
   }
  },
  {
   "cell_type": "code",
   "execution_count": 22,
   "outputs": [
    {
     "data": {
      "text/plain": "   reviewer_id review_profilename\n0            0            stcules\n1            1     johnmichaelsen\n2            2            oline73\n3            3          Reidrover\n4            4       alpinebryant",
      "text/html": "<div>\n<style scoped>\n    .dataframe tbody tr th:only-of-type {\n        vertical-align: middle;\n    }\n\n    .dataframe tbody tr th {\n        vertical-align: top;\n    }\n\n    .dataframe thead th {\n        text-align: right;\n    }\n</style>\n<table border=\"1\" class=\"dataframe\">\n  <thead>\n    <tr style=\"text-align: right;\">\n      <th></th>\n      <th>reviewer_id</th>\n      <th>review_profilename</th>\n    </tr>\n  </thead>\n  <tbody>\n    <tr>\n      <th>0</th>\n      <td>0</td>\n      <td>stcules</td>\n    </tr>\n    <tr>\n      <th>1</th>\n      <td>1</td>\n      <td>johnmichaelsen</td>\n    </tr>\n    <tr>\n      <th>2</th>\n      <td>2</td>\n      <td>oline73</td>\n    </tr>\n    <tr>\n      <th>3</th>\n      <td>3</td>\n      <td>Reidrover</td>\n    </tr>\n    <tr>\n      <th>4</th>\n      <td>4</td>\n      <td>alpinebryant</td>\n    </tr>\n  </tbody>\n</table>\n</div>"
     },
     "execution_count": 22,
     "metadata": {},
     "output_type": "execute_result"
    }
   ],
   "source": [
    "users = parsed_data[[\"review_profilename\"]]\n",
    "users = users.drop_duplicates()\n",
    "users = users.reset_index(drop=True)\n",
    "users = users.reset_index(drop=False)\n",
    "users = users.rename(columns={'index': 'reviewer_id'})\n",
    "users.head()"
   ],
   "metadata": {
    "collapsed": false,
    "pycharm": {
     "name": "#%%\n"
    }
   }
  },
  {
   "cell_type": "code",
   "execution_count": 28,
   "outputs": [
    {
     "data": {
      "text/plain": "   beer_style_id  beer_style\n0              0    Pale Ale\n1              1    Dark Ale\n2              2  Pale Lager\n3              3  Dark Lager",
      "text/html": "<div>\n<style scoped>\n    .dataframe tbody tr th:only-of-type {\n        vertical-align: middle;\n    }\n\n    .dataframe tbody tr th {\n        vertical-align: top;\n    }\n\n    .dataframe thead th {\n        text-align: right;\n    }\n</style>\n<table border=\"1\" class=\"dataframe\">\n  <thead>\n    <tr style=\"text-align: right;\">\n      <th></th>\n      <th>beer_style_id</th>\n      <th>beer_style</th>\n    </tr>\n  </thead>\n  <tbody>\n    <tr>\n      <th>0</th>\n      <td>0</td>\n      <td>Pale Ale</td>\n    </tr>\n    <tr>\n      <th>1</th>\n      <td>1</td>\n      <td>Dark Ale</td>\n    </tr>\n    <tr>\n      <th>2</th>\n      <td>2</td>\n      <td>Pale Lager</td>\n    </tr>\n    <tr>\n      <th>3</th>\n      <td>3</td>\n      <td>Dark Lager</td>\n    </tr>\n  </tbody>\n</table>\n</div>"
     },
     "execution_count": 28,
     "metadata": {},
     "output_type": "execute_result"
    }
   ],
   "source": [
    "beer_types = parsed_data[[\"beer_style\"]]\n",
    "beer_types = beer_types.drop_duplicates()\n",
    "beer_types = beer_types.reset_index(drop=True)\n",
    "beer_types = beer_types.reset_index(drop=False)\n",
    "beer_types = beer_types.rename(columns={'index': 'beer_style_id'})\n",
    "beer_types.head()"
   ],
   "metadata": {
    "collapsed": false,
    "pycharm": {
     "name": "#%%\n"
    }
   }
  },
  {
   "cell_type": "code",
   "execution_count": 29,
   "outputs": [
    {
     "data": {
      "text/plain": "array(['Pale Ale', 'Dark Ale', 'Pale Lager', 'Dark Lager'], dtype=object)"
     },
     "execution_count": 29,
     "metadata": {},
     "output_type": "execute_result"
    }
   ],
   "source": [
    "beer_types.beer_style.unique()\n"
   ],
   "metadata": {
    "collapsed": false,
    "pycharm": {
     "name": "#%%\n"
    }
   }
  },
  {
   "cell_type": "code",
   "execution_count": 30,
   "outputs": [
    {
     "data": {
      "text/plain": "   beer_beerid               beer_name  beer_style  beer_abv  brewery_id\n0        47986            Sausa Weizen    Pale Ale       5.0       10325\n1        48213                Red Moon    Pale Ale       6.2       10325\n2        48215  Black Horse Black Beer    Dark Ale       6.5       10325\n3        47969              Sausa Pils  Pale Lager       5.0       10325\n4        64883           Cauldron DIPA    Pale Ale       7.7        1075",
      "text/html": "<div>\n<style scoped>\n    .dataframe tbody tr th:only-of-type {\n        vertical-align: middle;\n    }\n\n    .dataframe tbody tr th {\n        vertical-align: top;\n    }\n\n    .dataframe thead th {\n        text-align: right;\n    }\n</style>\n<table border=\"1\" class=\"dataframe\">\n  <thead>\n    <tr style=\"text-align: right;\">\n      <th></th>\n      <th>beer_beerid</th>\n      <th>beer_name</th>\n      <th>beer_style</th>\n      <th>beer_abv</th>\n      <th>brewery_id</th>\n    </tr>\n  </thead>\n  <tbody>\n    <tr>\n      <th>0</th>\n      <td>47986</td>\n      <td>Sausa Weizen</td>\n      <td>Pale Ale</td>\n      <td>5.0</td>\n      <td>10325</td>\n    </tr>\n    <tr>\n      <th>1</th>\n      <td>48213</td>\n      <td>Red Moon</td>\n      <td>Pale Ale</td>\n      <td>6.2</td>\n      <td>10325</td>\n    </tr>\n    <tr>\n      <th>2</th>\n      <td>48215</td>\n      <td>Black Horse Black Beer</td>\n      <td>Dark Ale</td>\n      <td>6.5</td>\n      <td>10325</td>\n    </tr>\n    <tr>\n      <th>3</th>\n      <td>47969</td>\n      <td>Sausa Pils</td>\n      <td>Pale Lager</td>\n      <td>5.0</td>\n      <td>10325</td>\n    </tr>\n    <tr>\n      <th>4</th>\n      <td>64883</td>\n      <td>Cauldron DIPA</td>\n      <td>Pale Ale</td>\n      <td>7.7</td>\n      <td>1075</td>\n    </tr>\n  </tbody>\n</table>\n</div>"
     },
     "execution_count": 30,
     "metadata": {},
     "output_type": "execute_result"
    }
   ],
   "source": [
    "\n",
    "\n",
    "beers = parsed_data[[\"beer_beerid\", \"beer_name\", \"beer_style\", \"beer_abv\", \"brewery_id\"]]\n",
    "beers = beers.drop_duplicates()\n",
    "beers.head()"
   ],
   "metadata": {
    "collapsed": false,
    "pycharm": {
     "name": "#%%\n"
    }
   }
  },
  {
   "cell_type": "code",
   "execution_count": 31,
   "outputs": [],
   "source": [
    "for name in beer_types.index:\n",
    "    beers = beers.replace(to_replace=beer_types.iloc[name]['beer_style'], value=beer_types.loc[name]['beer_style_id'])\n"
   ],
   "metadata": {
    "collapsed": false,
    "pycharm": {
     "name": "#%%\n"
    }
   }
  },
  {
   "cell_type": "code",
   "execution_count": 32,
   "outputs": [],
   "source": [
    "rds_connection_string = \"root:WE0ew4F3H2U0@finalproject.cqyw28rarsf4.us-east-1.rds.amazonaws.com:5432/postgres\"\n",
    "engine = create_engine(f'postgresql://{rds_connection_string}')\n",
    "\n",
    "brewery.to_sql(name='brewery', con=engine, if_exists='append', index=False)\n",
    "beer_types.to_sql(name='beer_style', con=engine, if_exists='append', index=False)\n",
    "beers.to_sql(name='beer', con=engine, if_exists='append', index=False)\n",
    "users.to_sql(name='reviewers', con=engine, if_exists='append', index=False)"
   ],
   "metadata": {
    "collapsed": false,
    "pycharm": {
     "name": "#%%\n"
    }
   }
  }
 ],
 "metadata": {
  "kernelspec": {
   "name": "conda-env-PythonAdv-py",
   "language": "python",
   "display_name": "Python [conda env:PythonAdv] *"
  },
  "language_info": {
   "codemirror_mode": {
    "name": "ipython",
    "version": 2
   },
   "file_extension": ".py",
   "mimetype": "text/x-python",
   "name": "python",
   "nbconvert_exporter": "python",
   "pygments_lexer": "ipython2",
   "version": "2.7.6"
  }
 },
 "nbformat": 4,
 "nbformat_minor": 0
}